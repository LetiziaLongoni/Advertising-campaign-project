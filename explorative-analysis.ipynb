{
 "cells": [
  {
   "cell_type": "code",
   "execution_count": 64,
   "metadata": {},
   "outputs": [],
   "source": [
    "import pandas as pd\n",
    "import numpy as np\n",
    "import pandas as pd\n",
    "import matplotlib.pyplot as plt"
   ]
  },
  {
   "cell_type": "code",
   "execution_count": 65,
   "metadata": {},
   "outputs": [],
   "source": [
    "campaign_data = pd.read_csv('data/campaign-data-processed.csv')"
   ]
  },
  {
   "attachments": {},
   "cell_type": "markdown",
   "metadata": {},
   "source": [
    "##### Numero di impression per cookie"
   ]
  },
  {
   "cell_type": "code",
   "execution_count": 66,
   "metadata": {},
   "outputs": [
    {
     "data": {
      "text/plain": [
       "count    82564.000000\n",
       "mean         5.458941\n",
       "std          5.335773\n",
       "min          1.000000\n",
       "25%          2.000000\n",
       "50%          4.000000\n",
       "75%          7.000000\n",
       "max        245.000000\n",
       "Name: total_impressions, dtype: float64"
      ]
     },
     "execution_count": 66,
     "metadata": {},
     "output_type": "execute_result"
    }
   ],
   "source": [
    "campaign_data_impressions = campaign_data.copy()\n",
    "campaign_data_impressions['total_impressions'].describe()"
   ]
  },
  {
   "cell_type": "code",
   "execution_count": 67,
   "metadata": {},
   "outputs": [
    {
     "data": {
      "text/plain": [
       "([<matplotlib.axis.YTick at 0x19ecf817a00>,\n",
       "  <matplotlib.axis.YTick at 0x19ecf817280>,\n",
       "  <matplotlib.axis.YTick at 0x19ed15ea9d0>,\n",
       "  <matplotlib.axis.YTick at 0x19ece5d99a0>,\n",
       "  <matplotlib.axis.YTick at 0x19ecf7f6220>,\n",
       "  <matplotlib.axis.YTick at 0x19ecf7f6970>,\n",
       "  <matplotlib.axis.YTick at 0x19ecf7f4100>],\n",
       " [Text(0, 0, ''),\n",
       "  Text(0, 0, ''),\n",
       "  Text(0, 0, ''),\n",
       "  Text(0, 0, ''),\n",
       "  Text(0, 0, ''),\n",
       "  Text(0, 0, ''),\n",
       "  Text(0, 0, '')])"
      ]
     },
     "execution_count": 67,
     "metadata": {},
     "output_type": "execute_result"
    },
    {
     "data": {
      "image/png": "[encoded data removed]",
      "text/plain": [
       "<Figure size 432x288 with 1 Axes>"
      ]
     },
     "metadata": {
      "needs_background": "light"
     },
     "output_type": "display_data"
    }
   ],
   "source": [
    "campaign_data_tot_impressions = campaign_data.copy()\n",
    "\n",
    "x = campaign_data_tot_impressions[campaign_data_tot_impressions['total_impressions'] <= 7]['total_impressions'].value_counts()\n",
    "y = round(x / 82564 * 100, 3).tolist()\n",
    "\n",
    "plt.xticks(range(1, 8))\n",
    "plt.xlabel('Numero di impression')\n",
    "plt.ylabel('Percentuale di cookie')\n",
    "plt.bar(x.index.tolist(), y, color = '#012060')\n",
    "\n",
    "plt.xlim(0.5, 7.5)\n",
    "y_ticks = plt.yticks()[0]\n",
    "plt.yticks([tick for tick in y_ticks if tick != 0 and tick != max(y_ticks)])"
   ]
  },
  {
   "cell_type": "code",
   "execution_count": 68,
   "metadata": {},
   "outputs": [
    {
     "data": {
      "text/html": [
       "<div>\n",
       "<style scoped>\n",
       "    .dataframe tbody tr th:only-of-type {\n",
       "        vertical-align: middle;\n",
       "    }\n",
       "\n",
       "    .dataframe tbody tr th {\n",
       "        vertical-align: top;\n",
       "    }\n",
       "\n",
       "    .dataframe thead th {\n",
       "        text-align: right;\n",
       "    }\n",
       "</style>\n",
       "<table border=\"1\" class=\"dataframe\">\n",
       "  <thead>\n",
       "    <tr style=\"text-align: right;\">\n",
       "      <th></th>\n",
       "      <th>os_id</th>\n",
       "      <th>browser_id</th>\n",
       "      <th>device_type_id</th>\n",
       "      <th>clicks</th>\n",
       "      <th>total_impressions</th>\n",
       "      <th>impressions_workday_morning</th>\n",
       "      <th>impressions_workday_afternoon</th>\n",
       "      <th>impressions_workday_evening</th>\n",
       "      <th>impressions_workday_night</th>\n",
       "      <th>impressions_weekend_morning</th>\n",
       "      <th>...</th>\n",
       "      <th>pets</th>\n",
       "      <th>realestate</th>\n",
       "      <th>religionandspirituality</th>\n",
       "      <th>science</th>\n",
       "      <th>shopping</th>\n",
       "      <th>society</th>\n",
       "      <th>sports</th>\n",
       "      <th>styleandfashion</th>\n",
       "      <th>technologyandcomputing</th>\n",
       "      <th>travel</th>\n",
       "    </tr>\n",
       "  </thead>\n",
       "  <tbody>\n",
       "    <tr>\n",
       "      <th>96</th>\n",
       "      <td>os_G</td>\n",
       "      <td>browser_B</td>\n",
       "      <td>device_B</td>\n",
       "      <td>1</td>\n",
       "      <td>4</td>\n",
       "      <td>0</td>\n",
       "      <td>1</td>\n",
       "      <td>1</td>\n",
       "      <td>0</td>\n",
       "      <td>0</td>\n",
       "      <td>...</td>\n",
       "      <td>0.00</td>\n",
       "      <td>0.00</td>\n",
       "      <td>0.00</td>\n",
       "      <td>0.00</td>\n",
       "      <td>0.00</td>\n",
       "      <td>0.00</td>\n",
       "      <td>0.00</td>\n",
       "      <td>0.00</td>\n",
       "      <td>1.00</td>\n",
       "      <td>0.00</td>\n",
       "    </tr>\n",
       "    <tr>\n",
       "      <th>485</th>\n",
       "      <td>os_G</td>\n",
       "      <td>browser_B</td>\n",
       "      <td>device_B</td>\n",
       "      <td>1</td>\n",
       "      <td>4</td>\n",
       "      <td>0</td>\n",
       "      <td>1</td>\n",
       "      <td>3</td>\n",
       "      <td>0</td>\n",
       "      <td>0</td>\n",
       "      <td>...</td>\n",
       "      <td>0.00</td>\n",
       "      <td>0.00</td>\n",
       "      <td>0.00</td>\n",
       "      <td>0.00</td>\n",
       "      <td>0.00</td>\n",
       "      <td>0.00</td>\n",
       "      <td>0.00</td>\n",
       "      <td>0.00</td>\n",
       "      <td>0.40</td>\n",
       "      <td>0.00</td>\n",
       "    </tr>\n",
       "    <tr>\n",
       "      <th>502</th>\n",
       "      <td>os_G</td>\n",
       "      <td>browser_B</td>\n",
       "      <td>device_B</td>\n",
       "      <td>1</td>\n",
       "      <td>7</td>\n",
       "      <td>0</td>\n",
       "      <td>0</td>\n",
       "      <td>3</td>\n",
       "      <td>0</td>\n",
       "      <td>1</td>\n",
       "      <td>...</td>\n",
       "      <td>0.00</td>\n",
       "      <td>0.00</td>\n",
       "      <td>0.00</td>\n",
       "      <td>0.00</td>\n",
       "      <td>0.00</td>\n",
       "      <td>0.00</td>\n",
       "      <td>1.00</td>\n",
       "      <td>0.00</td>\n",
       "      <td>0.00</td>\n",
       "      <td>0.00</td>\n",
       "    </tr>\n",
       "    <tr>\n",
       "      <th>763</th>\n",
       "      <td>os_A</td>\n",
       "      <td>browser_B</td>\n",
       "      <td>device_A</td>\n",
       "      <td>1</td>\n",
       "      <td>14</td>\n",
       "      <td>1</td>\n",
       "      <td>8</td>\n",
       "      <td>2</td>\n",
       "      <td>2</td>\n",
       "      <td>1</td>\n",
       "      <td>...</td>\n",
       "      <td>0.04</td>\n",
       "      <td>0.04</td>\n",
       "      <td>0.04</td>\n",
       "      <td>0.04</td>\n",
       "      <td>0.04</td>\n",
       "      <td>0.04</td>\n",
       "      <td>0.04</td>\n",
       "      <td>0.04</td>\n",
       "      <td>0.04</td>\n",
       "      <td>0.04</td>\n",
       "    </tr>\n",
       "    <tr>\n",
       "      <th>1059</th>\n",
       "      <td>os_A</td>\n",
       "      <td>browser_A</td>\n",
       "      <td>device_A</td>\n",
       "      <td>1</td>\n",
       "      <td>6</td>\n",
       "      <td>0</td>\n",
       "      <td>0</td>\n",
       "      <td>0</td>\n",
       "      <td>0</td>\n",
       "      <td>0</td>\n",
       "      <td>...</td>\n",
       "      <td>0.04</td>\n",
       "      <td>0.04</td>\n",
       "      <td>0.04</td>\n",
       "      <td>0.04</td>\n",
       "      <td>0.04</td>\n",
       "      <td>0.04</td>\n",
       "      <td>0.04</td>\n",
       "      <td>0.04</td>\n",
       "      <td>0.04</td>\n",
       "      <td>0.04</td>\n",
       "    </tr>\n",
       "    <tr>\n",
       "      <th>...</th>\n",
       "      <td>...</td>\n",
       "      <td>...</td>\n",
       "      <td>...</td>\n",
       "      <td>...</td>\n",
       "      <td>...</td>\n",
       "      <td>...</td>\n",
       "      <td>...</td>\n",
       "      <td>...</td>\n",
       "      <td>...</td>\n",
       "      <td>...</td>\n",
       "      <td>...</td>\n",
       "      <td>...</td>\n",
       "      <td>...</td>\n",
       "      <td>...</td>\n",
       "      <td>...</td>\n",
       "      <td>...</td>\n",
       "      <td>...</td>\n",
       "      <td>...</td>\n",
       "      <td>...</td>\n",
       "      <td>...</td>\n",
       "      <td>...</td>\n",
       "    </tr>\n",
       "    <tr>\n",
       "      <th>80814</th>\n",
       "      <td>os_F</td>\n",
       "      <td>browser_B</td>\n",
       "      <td>device_C</td>\n",
       "      <td>1</td>\n",
       "      <td>11</td>\n",
       "      <td>0</td>\n",
       "      <td>0</td>\n",
       "      <td>2</td>\n",
       "      <td>8</td>\n",
       "      <td>0</td>\n",
       "      <td>...</td>\n",
       "      <td>0.00</td>\n",
       "      <td>0.00</td>\n",
       "      <td>0.00</td>\n",
       "      <td>0.00</td>\n",
       "      <td>0.00</td>\n",
       "      <td>0.00</td>\n",
       "      <td>0.00</td>\n",
       "      <td>0.00</td>\n",
       "      <td>0.00</td>\n",
       "      <td>0.00</td>\n",
       "    </tr>\n",
       "    <tr>\n",
       "      <th>81414</th>\n",
       "      <td>os_G</td>\n",
       "      <td>browser_B</td>\n",
       "      <td>device_B</td>\n",
       "      <td>1</td>\n",
       "      <td>3</td>\n",
       "      <td>0</td>\n",
       "      <td>0</td>\n",
       "      <td>0</td>\n",
       "      <td>0</td>\n",
       "      <td>3</td>\n",
       "      <td>...</td>\n",
       "      <td>0.00</td>\n",
       "      <td>0.00</td>\n",
       "      <td>0.00</td>\n",
       "      <td>0.00</td>\n",
       "      <td>0.00</td>\n",
       "      <td>0.00</td>\n",
       "      <td>0.00</td>\n",
       "      <td>0.00</td>\n",
       "      <td>0.40</td>\n",
       "      <td>0.00</td>\n",
       "    </tr>\n",
       "    <tr>\n",
       "      <th>81420</th>\n",
       "      <td>os_A</td>\n",
       "      <td>browser_B</td>\n",
       "      <td>device_A</td>\n",
       "      <td>1</td>\n",
       "      <td>4</td>\n",
       "      <td>0</td>\n",
       "      <td>1</td>\n",
       "      <td>0</td>\n",
       "      <td>2</td>\n",
       "      <td>0</td>\n",
       "      <td>...</td>\n",
       "      <td>0.04</td>\n",
       "      <td>0.04</td>\n",
       "      <td>0.04</td>\n",
       "      <td>0.04</td>\n",
       "      <td>0.04</td>\n",
       "      <td>0.04</td>\n",
       "      <td>0.04</td>\n",
       "      <td>0.04</td>\n",
       "      <td>0.04</td>\n",
       "      <td>0.04</td>\n",
       "    </tr>\n",
       "    <tr>\n",
       "      <th>81923</th>\n",
       "      <td>os_G</td>\n",
       "      <td>browser_F</td>\n",
       "      <td>device_B</td>\n",
       "      <td>1</td>\n",
       "      <td>4</td>\n",
       "      <td>3</td>\n",
       "      <td>1</td>\n",
       "      <td>0</td>\n",
       "      <td>0</td>\n",
       "      <td>0</td>\n",
       "      <td>...</td>\n",
       "      <td>0.00</td>\n",
       "      <td>0.00</td>\n",
       "      <td>0.00</td>\n",
       "      <td>0.00</td>\n",
       "      <td>0.00</td>\n",
       "      <td>0.00</td>\n",
       "      <td>0.00</td>\n",
       "      <td>0.00</td>\n",
       "      <td>0.00</td>\n",
       "      <td>0.00</td>\n",
       "    </tr>\n",
       "    <tr>\n",
       "      <th>82446</th>\n",
       "      <td>os_G</td>\n",
       "      <td>browser_E</td>\n",
       "      <td>device_B</td>\n",
       "      <td>1</td>\n",
       "      <td>3</td>\n",
       "      <td>0</td>\n",
       "      <td>0</td>\n",
       "      <td>0</td>\n",
       "      <td>0</td>\n",
       "      <td>3</td>\n",
       "      <td>...</td>\n",
       "      <td>0.00</td>\n",
       "      <td>0.00</td>\n",
       "      <td>0.00</td>\n",
       "      <td>0.00</td>\n",
       "      <td>0.00</td>\n",
       "      <td>0.00</td>\n",
       "      <td>0.00</td>\n",
       "      <td>0.00</td>\n",
       "      <td>1.00</td>\n",
       "      <td>0.00</td>\n",
       "    </tr>\n",
       "  </tbody>\n",
       "</table>\n",
       "<p>253 rows × 41 columns</p>\n",
       "</div>"
      ],
      "text/plain": [
       "      os_id browser_id device_type_id  clicks  total_impressions  \\\n",
       "96     os_G  browser_B       device_B       1                  4   \n",
       "485    os_G  browser_B       device_B       1                  4   \n",
       "502    os_G  browser_B       device_B       1                  7   \n",
       "763    os_A  browser_B       device_A       1                 14   \n",
       "1059   os_A  browser_A       device_A       1                  6   \n",
       "...     ...        ...            ...     ...                ...   \n",
       "80814  os_F  browser_B       device_C       1                 11   \n",
       "81414  os_G  browser_B       device_B       1                  3   \n",
       "81420  os_A  browser_B       device_A       1                  4   \n",
       "81923  os_G  browser_F       device_B       1                  4   \n",
       "82446  os_G  browser_E       device_B       1                  3   \n",
       "\n",
       "       impressions_workday_morning  impressions_workday_afternoon  \\\n",
       "96                               0                              1   \n",
       "485                              0                              1   \n",
       "502                              0                              0   \n",
       "763                              1                              8   \n",
       "1059                             0                              0   \n",
       "...                            ...                            ...   \n",
       "80814                            0                              0   \n",
       "81414                            0                              0   \n",
       "81420                            0                              1   \n",
       "81923                            3                              1   \n",
       "82446                            0                              0   \n",
       "\n",
       "       impressions_workday_evening  impressions_workday_night  \\\n",
       "96                               1                          0   \n",
       "485                              3                          0   \n",
       "502                              3                          0   \n",
       "763                              2                          2   \n",
       "1059                             0                          0   \n",
       "...                            ...                        ...   \n",
       "80814                            2                          8   \n",
       "81414                            0                          0   \n",
       "81420                            0                          2   \n",
       "81923                            0                          0   \n",
       "82446                            0                          0   \n",
       "\n",
       "       impressions_weekend_morning  ...  pets  realestate  \\\n",
       "96                               0  ...  0.00        0.00   \n",
       "485                              0  ...  0.00        0.00   \n",
       "502                              1  ...  0.00        0.00   \n",
       "763                              1  ...  0.04        0.04   \n",
       "1059                             0  ...  0.04        0.04   \n",
       "...                            ...  ...   ...         ...   \n",
       "80814                            0  ...  0.00        0.00   \n",
       "81414                            3  ...  0.00        0.00   \n",
       "81420                            0  ...  0.04        0.04   \n",
       "81923                            0  ...  0.00        0.00   \n",
       "82446                            3  ...  0.00        0.00   \n",
       "\n",
       "       religionandspirituality  science  shopping  society  sports  \\\n",
       "96                        0.00     0.00      0.00     0.00    0.00   \n",
       "485                       0.00     0.00      0.00     0.00    0.00   \n",
       "502                       0.00     0.00      0.00     0.00    1.00   \n",
       "763                       0.04     0.04      0.04     0.04    0.04   \n",
       "1059                      0.04     0.04      0.04     0.04    0.04   \n",
       "...                        ...      ...       ...      ...     ...   \n",
       "80814                     0.00     0.00      0.00     0.00    0.00   \n",
       "81414                     0.00     0.00      0.00     0.00    0.00   \n",
       "81420                     0.04     0.04      0.04     0.04    0.04   \n",
       "81923                     0.00     0.00      0.00     0.00    0.00   \n",
       "82446                     0.00     0.00      0.00     0.00    0.00   \n",
       "\n",
       "       styleandfashion  technologyandcomputing  travel  \n",
       "96                0.00                    1.00    0.00  \n",
       "485               0.00                    0.40    0.00  \n",
       "502               0.00                    0.00    0.00  \n",
       "763               0.04                    0.04    0.04  \n",
       "1059              0.04                    0.04    0.04  \n",
       "...                ...                     ...     ...  \n",
       "80814             0.00                    0.00    0.00  \n",
       "81414             0.00                    0.40    0.00  \n",
       "81420             0.04                    0.04    0.04  \n",
       "81923             0.00                    0.00    0.00  \n",
       "82446             0.00                    1.00    0.00  \n",
       "\n",
       "[253 rows x 41 columns]"
      ]
     },
     "execution_count": 68,
     "metadata": {},
     "output_type": "execute_result"
    }
   ],
   "source": [
    "campaign_data_tot_impressions[campaign_data_tot_impressions['clicks'] ==1] "
   ]
  },
  {
   "attachments": {},
   "cell_type": "markdown",
   "metadata": {},
   "source": [
    "##### Total impressions == 1"
   ]
  },
  {
   "cell_type": "code",
   "execution_count": 69,
   "metadata": {},
   "outputs": [],
   "source": [
    "campaign_data_tot_impressions_1 = campaign_data_tot_impressions[campaign_data_tot_impressions['clicks'] >= 1]"
   ]
  },
  {
   "cell_type": "code",
   "execution_count": 70,
   "metadata": {},
   "outputs": [
    {
     "data": {
      "text/plain": [
       "<BarContainer object of 7 artists>"
      ]
     },
     "execution_count": 70,
     "metadata": {},
     "output_type": "execute_result"
    },
    {
     "data": {
      "image/png": "[encoded data removed]",
      "text/plain": [
       "<Figure size 432x288 with 1 Axes>"
      ]
     },
     "metadata": {
      "needs_background": "light"
     },
     "output_type": "display_data"
    }
   ],
   "source": [
    "x_1 = campaign_data_tot_impressions_1[campaign_data_tot_impressions_1['total_impressions'] <= 7]['total_impressions'].value_counts()\n",
    "len(x_1.index.tolist())\n",
    "plt.xlim(0.5, 7.5) \n",
    "plt.xticks(range(1, 8))\n",
    "plt.xlabel('Numero di impression')\n",
    "plt.ylabel('Numero di cookie clicker')\n",
    "plt.bar(x_1.index.tolist(), x_1.values.tolist(),  color='#97b9e0')"
   ]
  },
  {
   "attachments": {},
   "cell_type": "markdown",
   "metadata": {},
   "source": [
    "### Impressions"
   ]
  },
  {
   "cell_type": "code",
   "execution_count": 71,
   "metadata": {},
   "outputs": [],
   "source": [
    "campaign_data_impressions = campaign_data.copy()"
   ]
  },
  {
   "cell_type": "code",
   "execution_count": 72,
   "metadata": {},
   "outputs": [],
   "source": [
    "impressions = campaign_data_impressions.loc[:, 'total_impressions':'impressions_weekend_night'].copy()"
   ]
  },
  {
   "cell_type": "code",
   "execution_count": 73,
   "metadata": {},
   "outputs": [],
   "source": [
    "impressions_workday = impressions.loc[:, 'impressions_workday_morning':'impressions_workday_night']\n",
    "impressions_weekend = impressions.loc[:, 'impressions_weekend_morning':'impressions_weekend_night']"
   ]
  },
  {
   "cell_type": "code",
   "execution_count": 74,
   "metadata": {},
   "outputs": [],
   "source": [
    "total_impressions = impressions.loc[:, 'total_impressions']\n",
    "total_impressions_workday = impressions_workday.sum().sum()\n",
    "total_impressions_weekend = impressions_weekend.sum().sum()"
   ]
  },
  {
   "cell_type": "code",
   "execution_count": 75,
   "metadata": {},
   "outputs": [
    {
     "data": {
      "text/plain": [
       "62736"
      ]
     },
     "execution_count": 75,
     "metadata": {},
     "output_type": "execute_result"
    }
   ],
   "source": [
    "impressions_workday['impressions_workday_morning'].sum()"
   ]
  },
  {
   "attachments": {},
   "cell_type": "markdown",
   "metadata": {},
   "source": [
    "##### Impressions workday/weekend"
   ]
  },
  {
   "cell_type": "code",
   "execution_count": 76,
   "metadata": {},
   "outputs": [],
   "source": [
    "ratio_workday = (total_impressions_workday) / (total_impressions.sum())\n",
    "ratio_weekend = (total_impressions_weekend) / (total_impressions.sum())"
   ]
  },
  {
   "attachments": {},
   "cell_type": "markdown",
   "metadata": {},
   "source": [
    "#### Impression workday"
   ]
  },
  {
   "cell_type": "code",
   "execution_count": 80,
   "metadata": {},
   "outputs": [],
   "source": [
    "moment = ['Mattina', 'Pomeriggio', 'Sera', 'Notte']\n",
    "\n",
    "n_impressions_workday = [impressions_workday['impressions_workday_morning'].sum(),\n",
    "                        impressions_workday['impressions_workday_afternoon'].sum(),\n",
    "                        impressions_workday['impressions_workday_evening'].sum(),\n",
    "                        impressions_workday['impressions_workday_night'].sum()]\n",
    "\n",
    "n_impressions_weekend = [impressions_weekend['impressions_weekend_morning'].sum(),\n",
    "                        impressions_weekend['impressions_weekend_afternoon'].sum(),\n",
    "                        impressions_weekend['impressions_weekend_evening'].sum(),\n",
    "                        impressions_weekend['impressions_weekend_night'].sum()]"
   ]
  },
  {
   "cell_type": "code",
   "execution_count": 82,
   "metadata": {},
   "outputs": [],
   "source": [
    "larghezza_barre = 0.25\n",
    "posizioni = np.arange(len(moment))"
   ]
  },
  {
   "cell_type": "code",
   "execution_count": 83,
   "metadata": {},
   "outputs": [
    {
     "data": {
      "image/png": "[encoded data removed]",
      "text/plain": [
       "<Figure size 432x288 with 1 Axes>"
      ]
     },
     "metadata": {
      "needs_background": "light"
     },
     "output_type": "display_data"
    }
   ],
   "source": [
    "# Creazione del grafico a barre\n",
    "fig, ax = plt.subplots()\n",
    "\n",
    "bar1 = ax.bar(posizioni, n_impressions_workday / sum(n_impressions_workday) * 100, larghezza_barre, label='Impression giorni lavorativi', color='#002060')\n",
    "bar2 = ax.bar(posizioni + larghezza_barre, n_impressions_weekend / sum(n_impressions_weekend) * 100, larghezza_barre, label='Impression giorni festivi', color='#97b9e0')\n",
    "\n",
    "# Aggiunta delle etichette degli assi e del titolo\n",
    "ax.set_xlabel('Momento della giornata')\n",
    "ax.set_ylabel('Percentuale di impression')\n",
    "\n",
    "# Aggiunta delle etichette delle categorie sull'asse x\n",
    "ax.set_xticks(posizioni + larghezza_barre / 2)\n",
    "ax.set_xticklabels(moment)\n",
    "\n",
    "# Aggiunta della legenda\n",
    "ax.legend(fontsize='small')\n",
    "\n",
    "y_ticks = plt.yticks()[0]\n",
    "plt.yticks([tick for tick in y_ticks if tick != 0 and tick != max(y_ticks)])\n",
    "\n",
    "# Visualizzazione del grafico\n",
    "plt.show()"
   ]
  },
  {
   "cell_type": "code",
   "execution_count": 84,
   "metadata": {},
   "outputs": [],
   "source": [
    "display_impressions_workday = {'workday_moment': ['Mattina', 'Pomeriggio', 'Sera', 'Notte'],\n",
    "                               'number_of_impressions': [impressions_workday['impressions_workday_morning'].sum(),\n",
    "                                                         impressions_workday['impressions_workday_afternoon'].sum(),\n",
    "                                                         impressions_workday['impressions_workday_evening'].sum(),\n",
    "                                                         impressions_workday['impressions_workday_night'].sum()]}\n",
    "display_impressions_workday = pd.DataFrame(display_impressions_workday)"
   ]
  },
  {
   "cell_type": "code",
   "execution_count": 85,
   "metadata": {},
   "outputs": [
    {
     "data": {
      "image/png": "[encoded data removed]",
      "text/plain": [
       "<Figure size 432x288 with 1 Axes>"
      ]
     },
     "metadata": {
      "needs_background": "light"
     },
     "output_type": "display_data"
    }
   ],
   "source": [
    "# Creazione del bar chart\n",
    "plot_impressions_workday = display_impressions_workday.plot.bar(x='workday_moment', y='number_of_impressions', rot=0, color='#002060')\n",
    "\n",
    "plot_impressions_workday.legend().remove()\n",
    "\n",
    "# Personalizzazione del grafico\n",
    "plt.title('Numero di impressions nei giorni lavorativi')\n",
    "plt.xlabel('Momento della giornata')\n",
    "plt.ylabel('Numero di impressions')\n",
    "\n",
    "# Visualizzazione del grafico\n",
    "plt.show()"
   ]
  },
  {
   "attachments": {},
   "cell_type": "markdown",
   "metadata": {},
   "source": [
    "#### Categorie"
   ]
  },
  {
   "cell_type": "code",
   "execution_count": 98,
   "metadata": {},
   "outputs": [],
   "source": [
    "categories = campaign_data.loc[:, 'artandentertainment':'travel'].copy()"
   ]
  },
  {
   "cell_type": "code",
   "execution_count": 106,
   "metadata": {},
   "outputs": [],
   "source": [
    "top = categories.mean(axis=0).sort_values(ascending=False).head(7) * 100"
   ]
  },
  {
   "cell_type": "code",
   "execution_count": 112,
   "metadata": {},
   "outputs": [
    {
     "data": {
      "image/png": "[encoded data removed]",
      "text/plain": [
       "<Figure size 432x288 with 1 Axes>"
      ]
     },
     "metadata": {
      "needs_background": "light"
     },
     "output_type": "display_data"
    }
   ],
   "source": [
    "fig, ax = plt.subplots()\n",
    "top.plot.bar(ax=ax, color='#97b9df')\n",
    "\n",
    "list_categories = ['arte', 'tecnologia', 'hobby', 'sport', 'scienze', 'carriera', 'viaggi']\n",
    "\n",
    "plt.xlabel('Categorie')\n",
    "plt.ylabel('Percentuale media per pagina')\n",
    "\n",
    "ax.set_xticklabels(list_categories, rotation=45, ha='right')\n",
    "\n",
    "y_ticks = plt.yticks()[0]\n",
    "plt.yticks([tick for tick in y_ticks if tick != 0 and tick != max(y_ticks)])\n",
    "\n",
    "plt.show()\n"
   ]
  },
  {
   "attachments": {},
   "cell_type": "markdown",
   "metadata": {},
   "source": [
    "##### Grafici dei decili (Random Forest e Mahalanobis)"
   ]
  },
  {
   "cell_type": "code",
   "execution_count": 108,
   "metadata": {},
   "outputs": [],
   "source": [
    "deciles_testing = pd.read_csv('data/deciles-testing-mahalanobis.csv')"
   ]
  },
  {
   "cell_type": "code",
   "execution_count": 109,
   "metadata": {},
   "outputs": [
    {
     "data": {
      "image/png": "[encoded data removed]",
      "text/plain": [
       "<Figure size 432x288 with 1 Axes>"
      ]
     },
     "metadata": {
      "needs_background": "light"
     },
     "output_type": "display_data"
    }
   ],
   "source": [
    "deciles_testing_pos = deciles_testing.drop(['ratio_neg_basic', 'ratio_neg_nm1', 'ratio_neg_smote','ratio_neg_smoteenn'], axis = 1)\n",
    "\n",
    "ax = deciles_testing_pos.plot(\n",
    "    x = 'decile_interval',\n",
    "    y = ['ratio_pos_basic', 'ratio_pos_nm1', 'ratio_pos_smote', 'ratio_pos_smoteenn'], \n",
    "    kind = 'line',\n",
    "    color = ['#002060', '#0090C1', '#AF3B6E', '#F896D8', '#DE9E36']\n",
    ")\n",
    "\n",
    "ax.legend(['Base', 'Under', 'Over', 'Combined'])\n",
    "\n",
    "plt.xticks([1,2,3,4,5,6,7,8,9,10])\n",
    "\n",
    "plt.xlabel('Decili')\n",
    "plt.ylabel('Rapporto True Positive')\n",
    "\n",
    "plt.grid(True)"
   ]
  },
  {
   "cell_type": "code",
   "execution_count": 110,
   "metadata": {},
   "outputs": [
    {
     "data": {
      "image/png": "[encoded data removed]",
      "text/plain": [
       "<Figure size 432x288 with 1 Axes>"
      ]
     },
     "metadata": {
      "needs_background": "light"
     },
     "output_type": "display_data"
    }
   ],
   "source": [
    "deciles_testing_neg = deciles_testing.drop(['ratio_pos_basic', 'ratio_pos_nm1', 'ratio_pos_smote','ratio_pos_smoteenn'], axis = 1)\n",
    "\n",
    "ax = deciles_testing_neg.plot(\n",
    "    x = 'decile_interval',\n",
    "    y = ['ratio_neg_basic', 'ratio_neg_nm1', 'ratio_neg_smote', 'ratio_neg_smoteenn'], \n",
    "    kind = 'line',\n",
    "    color = ['#002060', '#0090C1', '#AF3B6E', '#F896D8', '#DE9E36']\n",
    ")\n",
    "\n",
    "ax.legend(['Base', 'Under', 'Over', 'Combined'])\n",
    "\n",
    "plt.xticks([1,2,3,4,5,6,7,8,9,10])\n",
    "\n",
    "plt.xlabel('Decili')\n",
    "plt.ylabel('Rapporto True Negative')\n",
    "\n",
    "plt.grid(True)"
   ]
  }
 ],
 "metadata": {
  "kernelspec": {
   "display_name": "Python 3",
   "language": "python",
   "name": "python3"
  },
  "language_info": {
   "codemirror_mode": {
    "name": "ipython",
    "version": 3
   },
   "file_extension": ".py",
   "mimetype": "text/x-python",
   "name": "python",
   "nbconvert_exporter": "python",
   "pygments_lexer": "ipython3",
   "version": "3.9.12"
  },
  "orig_nbformat": 4
 },
 "nbformat": 4,
 "nbformat_minor": 2
}
