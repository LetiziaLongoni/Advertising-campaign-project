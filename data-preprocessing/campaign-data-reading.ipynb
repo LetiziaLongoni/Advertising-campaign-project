{
 "cells": [
  {
   "cell_type": "code",
   "execution_count": 1,
   "metadata": {},
   "outputs": [],
   "source": [
    "import os\n",
    "import pandas as pd"
   ]
  },
  {
   "cell_type": "code",
   "execution_count": 2,
   "metadata": {},
   "outputs": [],
   "source": [
    "campaign_dataset_csv = os.listdir('../campaign-dataset-split')\n",
    "campaign_data_list = []\n",
    "\n",
    "for csv_file in campaign_dataset_csv:\n",
    "\n",
    "    file_path = 'campaign-dataset-split/' + csv_file\n",
    "\n",
    "    campaign_data_part = pd.read_csv(file_path)\n",
    "    campaign_data_list.append(campaign_data_part)\n",
    "\n",
    "campaign_data = pd.concat(campaign_data_list)"
   ]
  },
  {
   "cell_type": "code",
   "execution_count": 3,
   "metadata": {},
   "outputs": [],
   "source": [
    "campaign_data.to_csv('campaign-data-initial.csv', encoding = 'utf-8', index = False)"
   ]
  }
 ],
 "metadata": {
  "kernelspec": {
   "display_name": "base",
   "language": "python",
   "name": "python3"
  },
  "language_info": {
   "codemirror_mode": {
    "name": "ipython",
    "version": 3
   },
   "file_extension": ".py",
   "mimetype": "text/x-python",
   "name": "python",
   "nbconvert_exporter": "python",
   "pygments_lexer": "ipython3",
   "version": "3.9.12"
  },
  "orig_nbformat": 4
 },
 "nbformat": 4,
 "nbformat_minor": 2
}
