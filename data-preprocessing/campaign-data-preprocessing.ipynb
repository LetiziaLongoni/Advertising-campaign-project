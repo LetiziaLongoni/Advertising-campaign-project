{
 "cells": [
  {
   "cell_type": "code",
   "execution_count": null,
   "metadata": {},
   "outputs": [],
   "source": [
    "import pandas as pd\n",
    "import numpy as np\n",
    "import zipfile\n",
    "import math"
   ]
  },
  {
   "cell_type": "code",
   "execution_count": null,
   "metadata": {},
   "outputs": [],
   "source": [
    "# Lettura del CSV iniziale\n",
    "campaign_data_initial = pd.read_csv(zipfile.ZipFile('../data/campaign-data-initial.zip', 'r').open('../data/campaign-data-initial.csv'))"
   ]
  },
  {
   "cell_type": "code",
   "execution_count": null,
   "metadata": {},
   "outputs": [],
   "source": [
    "campaign_data_processed = campaign_data_initial.copy()"
   ]
  },
  {
   "attachments": {},
   "cell_type": "markdown",
   "metadata": {},
   "source": [
    "### Cookie ID"
   ]
  },
  {
   "cell_type": "code",
   "execution_count": null,
   "metadata": {},
   "outputs": [],
   "source": [
    "print('Numero di cookie ID erronei (negativi):', len(campaign_data_processed[campaign_data_processed['ad_form_id'] < 0]))\n",
    "\n",
    "# Soluzione: utilizzare il valore assoluto del cookie ID\n",
    "campaign_data_processed['ad_form_id'] = np.abs(campaign_data_processed['ad_form_id'])\n",
    "\n",
    "print('Numero di cookie ID erronei dopo il processing:', len(campaign_data_processed[campaign_data_processed['ad_form_id'] < 0]))\n",
    "\n",
    "# Check dei cookie ID duplicati\n",
    "print(\"Numero di cookie ID duplicati:\", len(campaign_data_processed) - len(campaign_data_processed.drop_duplicates()))\n",
    "\n",
    "# Eliminazione della colonna dei cookie ID\n",
    "campaign_data_processed.drop('ad_form_id', inplace = True, axis = 1)"
   ]
  },
  {
   "attachments": {},
   "cell_type": "markdown",
   "metadata": {},
   "source": [
    "### Suspicious"
   ]
  },
  {
   "cell_type": "code",
   "execution_count": null,
   "metadata": {},
   "outputs": [],
   "source": [
    "# Cookie rilevati come sospetti bot\n",
    "suspicious_cookie = campaign_data_processed[campaign_data_processed['suspicious'] == 1][['suspicious','clicks']]\n",
    "\n",
    "# Check dei cookie sospetti con uno o più click\n",
    "print('Cookie sospetti con uno o più click:', len(suspicious_cookie[suspicious_cookie['clicks'] >= 1]))\n",
    "\n",
    "# Eliminazione della colonna suspicious\n",
    "campaign_data_processed.drop('suspicious', inplace = True, axis = 1)"
   ]
  },
  {
   "attachments": {},
   "cell_type": "markdown",
   "metadata": {},
   "source": [
    "### Clicks"
   ]
  },
  {
   "cell_type": "code",
   "execution_count": null,
   "metadata": {},
   "outputs": [],
   "source": [
    "print(\"Numero di cookie con uno o più click:\", len(campaign_data_processed[(campaign_data_processed[\"clicks\"] > 0)]))"
   ]
  },
  {
   "attachments": {},
   "cell_type": "markdown",
   "metadata": {},
   "source": [
    "### Impressions"
   ]
  },
  {
   "cell_type": "code",
   "execution_count": null,
   "metadata": {},
   "outputs": [],
   "source": [
    "# Check: numero di impressions uguale a 0 (impossibile)\n",
    "print('Numero di cookie con zero impressions (erronei):', len(campaign_data_processed[campaign_data_processed['impressions'] == 0 ]))\n",
    "print('Numero di cookie con zero impressions ed almeno un click:', len(campaign_data_processed[ (campaign_data_processed['impressions'] == 0) & (campaign_data_processed['clicks'] > 0) ]))\n",
    "\n",
    "# Somma del numero di click al numero di impression\n",
    "campaign_data_processed.loc[campaign_data_processed.clicks >= 1,'impressions'] = campaign_data_processed['impressions'] + campaign_data_processed['clicks']\n",
    "\n",
    "# Numero di impressions totali\n",
    "initial_total_number_impressions = campaign_data_processed['impressions'].sum()"
   ]
  },
  {
   "attachments": {},
   "cell_type": "markdown",
   "metadata": {},
   "source": [
    "### Buy"
   ]
  },
  {
   "cell_type": "code",
   "execution_count": null,
   "metadata": {},
   "outputs": [],
   "source": [
    "print(\"Numero di cookie che ha effettuato uno o più acquisti:\", len(campaign_data_processed[campaign_data_processed['buy'] > 0]))\n",
    "\n",
    "# Eliminazione della colonna buy\n",
    "campaign_data_processed.drop('buy', inplace = True, axis = 1)"
   ]
  },
  {
   "attachments": {},
   "cell_type": "markdown",
   "metadata": {},
   "source": [
    "### Operating system"
   ]
  },
  {
   "cell_type": "code",
   "execution_count": null,
   "metadata": {},
   "outputs": [],
   "source": [
    "# Check: cookie associato ad un unico sistema operativo (definizione di cookie)\n",
    "os_check = campaign_data_processed.loc[:,'os_android':'os_windows'].sum(axis = 1)\n",
    "\n",
    "print('Cookie con errore nel sistema operativo:', len(campaign_data_processed[os_check != 1])) "
   ]
  },
  {
   "cell_type": "code",
   "execution_count": null,
   "metadata": {},
   "outputs": [],
   "source": [
    "# Funzione che ritorna l'ID relativo al sistema operativo (ciascun SO ha un ID univoco)\n",
    "def assignOsId(row):\n",
    "\n",
    "    if row['os_android'] == 1:\n",
    "        return 'os_A'\n",
    "\n",
    "    if row['os_bsd'] == 1:\n",
    "        return 'os_B'\n",
    "\n",
    "    if row['os_ios'] == 1:\n",
    "        return 'os_C'\n",
    "\n",
    "    if row['os_linux'] == 1:\n",
    "        return 'os_D'\n",
    "\n",
    "    if row['os_osx'] == 1:\n",
    "        return 'os_E'\n",
    "\n",
    "    if row['os_other'] == 1:\n",
    "        return 'os_F'\n",
    "\n",
    "    if row['os_windows'] == 1:\n",
    "        return 'os_G'"
   ]
  },
  {
   "cell_type": "code",
   "execution_count": null,
   "metadata": {},
   "outputs": [],
   "source": [
    "# Creazione della colonna aggregata relativa al sistema operativo\n",
    "campaign_data_processed.insert(\n",
    "\n",
    "    loc = 0,\n",
    "    column = 'os_id',\n",
    "    value = campaign_data_processed.apply(lambda row: assignOsId(row), axis = 1)\n",
    "    \n",
    ")"
   ]
  },
  {
   "cell_type": "code",
   "execution_count": null,
   "metadata": {},
   "outputs": [],
   "source": [
    "# Eliminazione delle colonne iniziali relative al sistema operativo\n",
    "campaign_data_processed.drop(campaign_data_processed.loc[:,'os_android':'os_windows'], inplace = True, axis = 1)"
   ]
  },
  {
   "attachments": {},
   "cell_type": "markdown",
   "metadata": {},
   "source": [
    "### Browser"
   ]
  },
  {
   "cell_type": "code",
   "execution_count": null,
   "metadata": {},
   "outputs": [],
   "source": [
    "# Check: cookie associato ad un unico browser (definizione di cookie)\n",
    "browser_check = campaign_data_processed.loc[:,'browser_android':'browser_unknown'].sum(axis = 1)\n",
    "\n",
    "print('Cookie con errore nel browser:', len(campaign_data_processed[browser_check != 1]))"
   ]
  },
  {
   "cell_type": "code",
   "execution_count": null,
   "metadata": {},
   "outputs": [],
   "source": [
    "# Funzione che ritorna l'ID relativo al browser (ciascun browser ha un ID univoco)\n",
    "def assignBrowserId(row):\n",
    "\n",
    "    if row['browser_android'] == 1:\n",
    "        return 'browser_A'\n",
    "\n",
    "    if row['browser_chrome'] == 1:\n",
    "        return 'browser_B'\n",
    "\n",
    "    if row['browser_chromium'] == 1:\n",
    "        return 'browser_C'\n",
    "\n",
    "    if row['browser_edge'] == 1:\n",
    "        return 'browser_D'\n",
    "\n",
    "    if row['browser_firefox'] == 1:\n",
    "        return 'browser_E'\n",
    "\n",
    "    if row['browser_ie'] == 1:\n",
    "        return 'browser_F'\n",
    "\n",
    "    if row['browser_opera'] == 1:\n",
    "        return 'browser_G'\n",
    "    \n",
    "    if row['browser_other'] == 1:\n",
    "        return 'browser_H'\n",
    "    \n",
    "    if row['browser_safari'] == 1:\n",
    "        return 'browser_I'\n",
    "    \n",
    "    if row['browser_unknown'] == 1:\n",
    "        return 'browser_L'"
   ]
  },
  {
   "cell_type": "code",
   "execution_count": null,
   "metadata": {},
   "outputs": [],
   "source": [
    "# Creazione della colonna aggregata relativa al browser\n",
    "campaign_data_processed.insert(\n",
    "\n",
    "    loc = 1,\n",
    "    column = 'browser_id',\n",
    "    value = campaign_data_processed.apply(lambda row: assignBrowserId(row), axis = 1)\n",
    "    \n",
    ")"
   ]
  },
  {
   "cell_type": "code",
   "execution_count": null,
   "metadata": {},
   "outputs": [],
   "source": [
    "# Eliminazione delle colonne iniziali relative al browser\n",
    "campaign_data_processed.drop(campaign_data_processed.loc[:,'browser_android':'browser_unknown'], inplace = True, axis = 1)"
   ]
  },
  {
   "attachments": {},
   "cell_type": "markdown",
   "metadata": {},
   "source": [
    "### Device type"
   ]
  },
  {
   "cell_type": "code",
   "execution_count": null,
   "metadata": {},
   "outputs": [],
   "source": [
    "# Funzione che ritorna l'ID relativo al tipo di device (ciascun tipo di device ha un ID univoco)\n",
    "def assignDeviceTypeId(row):\n",
    "\n",
    "    if row['device_type'] == 1:\n",
    "        return 'device_A'\n",
    "\n",
    "    if row['device_type'] == 2:\n",
    "        return 'device_B'\n",
    "\n",
    "    if row['device_type'] == 3:\n",
    "        return 'device_C'\n",
    "\n",
    "    if row['device_type'] == 5:\n",
    "        return 'device_D'"
   ]
  },
  {
   "cell_type": "code",
   "execution_count": null,
   "metadata": {},
   "outputs": [],
   "source": [
    "# Creazione della colonna aggregata relativa al tipo di device\n",
    "campaign_data_processed.insert(\n",
    "\n",
    "    loc = 2,\n",
    "    column = 'device_type_id',\n",
    "    value = campaign_data_processed.apply(lambda row: assignDeviceTypeId(row), axis = 1)\n",
    "    \n",
    ")"
   ]
  },
  {
   "cell_type": "code",
   "execution_count": null,
   "metadata": {},
   "outputs": [],
   "source": [
    "# Eliminazione della colonna iniziale relativa al tipo di device\n",
    "campaign_data_processed.drop('device_type', inplace = True, axis = 1)"
   ]
  },
  {
   "attachments": {},
   "cell_type": "markdown",
   "metadata": {},
   "source": [
    "### Time"
   ]
  },
  {
   "cell_type": "code",
   "execution_count": null,
   "metadata": {},
   "outputs": [],
   "source": [
    "# Check: numero di percentuali relative al momento della giornata con valore negativo\n",
    "print(\"Numero di percentuali di tempo erronee (negative):\", (campaign_data_processed.loc[:,'time1_workday_morning':'time1_weekend_night'] < 0).values.sum())\n",
    "\n",
    "# Soluzione: valore assoluto delle percentuali\n",
    "campaign_data_processed.loc[:,'time1_workday_morning':'time1_weekend_night'] = np.abs(campaign_data_processed.loc[:,'time1_workday_morning':'time1_weekend_night'])"
   ]
  },
  {
   "cell_type": "code",
   "execution_count": null,
   "metadata": {},
   "outputs": [],
   "source": [
    "# Check: somma delle percentuali relative al momento della giornata\n",
    "\n",
    "# Colonna con la somma delle percentuali relative al momento della giornata\n",
    "campaign_data_processed.insert(\n",
    "    \n",
    "    loc = 13, \n",
    "    column = 'time_sum',\n",
    "    value = campaign_data_processed.loc[:,'time1_workday_morning':'time1_weekend_night'].sum(axis = 1)\n",
    "    \n",
    ")\n",
    "\n",
    "print('Numero di osservazioni erronee (problema somma percentuali diverse da 100):', len(campaign_data_processed[campaign_data_processed['time_sum'] != 100]))\n",
    "\n",
    "# Soluzione: normalizzazione basata sulla somma della riga\n",
    "\n",
    "# Funzione che normalizza le percentuali della singola riga basandosi sul totale (ritorna un ratio nel range [0,1])\n",
    "def normalizePercentage(row):\n",
    "    return round(row[0:-1] / row[-1], 2)\n",
    "\n",
    "# Applicazione della normalizzazione\n",
    "campaign_data_processed.loc[:,'time1_workday_morning':'time1_weekend_night'] = campaign_data_processed.loc[:,'time1_workday_morning':'time_sum'].apply(lambda row: normalizePercentage(row), axis = 1)\n",
    "\n",
    "# Eliminazione della colonna temporanea della somma\n",
    "campaign_data_processed.drop('time_sum', inplace = True, axis = 1)"
   ]
  },
  {
   "cell_type": "code",
   "execution_count": null,
   "metadata": {},
   "outputs": [],
   "source": [
    "# Salvataggio della distribuzione iniziale dei ratio per momento della giornata (utile per calcolare la correttezza di MIDA)\n",
    "initialRatioDistribution = campaign_data_processed.loc[:,'time1_workday_morning':'time1_weekend_night'].copy()\n",
    "\n",
    "# Rinomina delle colonne relative alle impression per momento della giornata nella distribuzione iniziale\n",
    "initialRatioDistribution = initialRatioDistribution.rename(columns = {\n",
    "\n",
    "    'time1_workday_morning': 'impressions_workday_morning',\n",
    "    'time1_workday_afternoon': 'impressions_workday_afternoon',\n",
    "    'time1_workday_evening': 'impressions_workday_evening',\n",
    "    'time1_workday_night': 'impressions_workday_night',\n",
    "    'time1_weekend_morning': 'impressions_weekend_morning',\n",
    "    'time1_weekend_afternoon': 'impressions_weekend_afternoon',\n",
    "    'time1_weekend_evening': 'impressions_weekend_evening',\n",
    "    'time1_weekend_night': 'impressions_weekend_night'\n",
    "\n",
    "})"
   ]
  },
  {
   "cell_type": "code",
   "execution_count": null,
   "metadata": {},
   "outputs": [],
   "source": [
    "# Algoritmo: Missing Impressions Detection Algorithm (MIDA)\n",
    "# Params\n",
    "#   @row -> riga del dataset con il numero di impressions iniziale ed i ratio per ciascun momento della giornata\n",
    "#   @threshold -> soglia minima unità impressions\n",
    "def mida(row, threshold):\n",
    "\n",
    "    # Se un momento della giornata ha il 100% delle impressions, allora ritorna il numero delle impressions stesso\n",
    "    if(len((row['time1_workday_morning':].where(row['time1_workday_morning':] == 1)).dropna()) == 1):\n",
    "\n",
    "        return row\n",
    "    \n",
    "    else:\n",
    "\n",
    "\n",
    "        # Lunghezza della distribuzione iniziale di valori ratio maggiori di 0\n",
    "        initialDistributionLength = len(row['time1_workday_morning':][row['time1_workday_morning':] > 0])\n",
    "\n",
    "\n",
    "        # Ratio sotto la soglia minima di unità d'impression vengono posti uguali a 0\n",
    "        row['time1_workday_morning':][row['time1_workday_morning':] < threshold] = 0\n",
    "        \n",
    "\n",
    "        # Check sulla lunghezza della distribuzione filtrata con threshold e la lunghezza della distribuzione iniziale (per normalizzazione)\n",
    "        if(len(row['time1_workday_morning':][row['time1_workday_morning':] > 0]) < initialDistributionLength):\n",
    "            \n",
    "            # Normalizzazione nel range [0,1]\n",
    "            row['time1_workday_morning':] = round(row['time1_workday_morning':] / row['time1_workday_morning':].sum(), 2)\n",
    "\n",
    "\n",
    "        # Unità d'impression è il minimo tra i ratio maggiori di 0\n",
    "        impressionUnit = row['time1_workday_morning':][row['time1_workday_morning':] > 0].min()\n",
    "\n",
    "        # Numero di impressions calcolato dall'algoritmo\n",
    "        impressions_mida = 1 / impressionUnit\n",
    "\n",
    "        \n",
    "        # Arrotondamento per eccesso da .5 compreso, altrimenti per difetto\n",
    "        if(impressions_mida - math.floor(impressions_mida) < 0.5): impressions_mida = math.floor(impressions_mida)\n",
    "        else: impressions_mida = math.ceil(impressions_mida)\n",
    "\n",
    "\n",
    "        # Utilizziamo impressions_mida solamente se vengono trovate più impressions rispetto all'inizio\n",
    "        if(impressions_mida >= row['impressions']):\n",
    "\n",
    "            row['impressions'] = impressions_mida\n",
    "\n",
    "        return row"
   ]
  },
  {
   "cell_type": "code",
   "execution_count": null,
   "metadata": {},
   "outputs": [],
   "source": [
    "# Colonna con il numero di impressions calcolate dall'algoritmo MIDA\n",
    "campaign_data_processed.loc[:,'impressions':'time1_weekend_night'] = campaign_data_processed.loc[:,'impressions':'time1_weekend_night'].apply(lambda row: mida(row, 0.05), axis = 1)\n",
    "\n",
    "# Rinomina della colonna delle impressions\n",
    "campaign_data_processed = campaign_data_processed.rename(columns = { 'impressions': 'impressions_mida' })"
   ]
  },
  {
   "cell_type": "code",
   "execution_count": null,
   "metadata": {},
   "outputs": [],
   "source": [
    "# Analisi del numero di impressions iniziali e di quelle computate con MIDA\n",
    "mida_total_number_impressions = campaign_data_processed['impressions_mida'].sum()\n",
    "\n",
    "difference_number_impressions = mida_total_number_impressions - initial_total_number_impressions\n",
    "\n",
    "avg_number_impressions = mida_total_number_impressions / len(campaign_data_processed)\n",
    "max_number_impressions = campaign_data_processed['impressions_mida'].max()\n",
    "\n",
    "print('Numero totale di impressions iniziali:', initial_total_number_impressions)\n",
    "print('Numero totale di impressions calcolate con MIDA:', int(mida_total_number_impressions))\n",
    "print('Numero di nuove impressions rilevate da MIDA:', int(difference_number_impressions))\n",
    "print('Numero medio di MIDA impressions per cookie:', round(avg_number_impressions, 1))"
   ]
  },
  {
   "cell_type": "code",
   "execution_count": null,
   "metadata": {},
   "outputs": [],
   "source": [
    "# Funzione che calcola il numero di impressions per ciascun momento della giornata (totale impressions * ratio)\n",
    "def computeImpressionsPerDayMoment(row):\n",
    "\n",
    "    impressions = row['impressions_mida']\n",
    "    impressionsPerDayMoment = round(impressions * row['time1_workday_morning':'time1_weekend_night']).apply(int)\n",
    "    sumImpressionsPerDayMoment = impressionsPerDayMoment.sum()\n",
    "    \n",
    "    # Gestione delle differenze tra impression calcolate da MIDA e la somma di quelle calcolate coi ratio (problema arrotondamento)\n",
    "    if(sumImpressionsPerDayMoment != impressions):\n",
    "\n",
    "        diff = sumImpressionsPerDayMoment - impressions\n",
    "\n",
    "        if(diff > 0):\n",
    "\n",
    "            while(diff != 0):\n",
    "\n",
    "                diff = diff - 1\n",
    "                randColumn = impressionsPerDayMoment.loc[lambda x: x > 0].sample(n = 1).index[0]\n",
    "                impressionsPerDayMoment[randColumn] = impressionsPerDayMoment[randColumn] - 1\n",
    "\n",
    "        else:\n",
    "\n",
    "            while(diff != 0):\n",
    "\n",
    "                diff = diff + 1\n",
    "                randColumn = impressionsPerDayMoment.loc[lambda x: x > 0].sample(n = 1).index[0]\n",
    "                impressionsPerDayMoment[randColumn] = impressionsPerDayMoment[randColumn] + 1\n",
    "\n",
    "    return impressionsPerDayMoment\n",
    "\n",
    "# Calcolo delle impressions per momento della giornata\n",
    "campaign_data_processed.loc[:,'time1_workday_morning':'time1_weekend_night'] = campaign_data_processed.loc[:,'impressions_mida':'time1_weekend_night'].apply(lambda row: computeImpressionsPerDayMoment(row), axis = 1)\n",
    "\n",
    "# Conversione in tipo int\n",
    "campaign_data_processed.loc[:,'impressions_mida':'time1_weekend_night'] = campaign_data_processed.loc[:,'impressions_mida':'time1_weekend_night'].apply(lambda row: row.apply(int))"
   ]
  },
  {
   "cell_type": "code",
   "execution_count": null,
   "metadata": {},
   "outputs": [],
   "source": [
    "# Rinomina delle colonne relative alle impressions per momento della giornata\n",
    "campaign_data_processed = campaign_data_processed.rename(columns = {\n",
    "\n",
    "    'impressions_mida': 'total_impressions',\n",
    "    'time1_workday_morning': 'impressions_workday_morning',\n",
    "    'time1_workday_afternoon': 'impressions_workday_afternoon',\n",
    "    'time1_workday_evening': 'impressions_workday_evening',\n",
    "    'time1_workday_night': 'impressions_workday_night',\n",
    "    'time1_weekend_morning': 'impressions_weekend_morning',\n",
    "    'time1_weekend_afternoon': 'impressions_weekend_afternoon',\n",
    "    'time1_weekend_evening': 'impressions_weekend_evening',\n",
    "    'time1_weekend_night': 'impressions_weekend_night'\n",
    "\n",
    "})"
   ]
  },
  {
   "cell_type": "code",
   "execution_count": null,
   "metadata": {},
   "outputs": [],
   "source": [
    "# Eliminazione delle colonne relative al momento della giornata con granularità maggiore\n",
    "campaign_data_processed.drop(campaign_data_processed.loc[:,'time2_morning_early':'time2_sleep'].columns, inplace = True, axis = 1)"
   ]
  },
  {
   "cell_type": "code",
   "execution_count": null,
   "metadata": {},
   "outputs": [],
   "source": [
    "# Funzione che calcola la correttezza percentuale di MIDA per ciascuna riga\n",
    "def computeAccuracyMIDA(row):\n",
    "\n",
    "    newDistributionMida = round(row['impressions_workday_morning':'impressions_weekend_night'] / row['total_impressions'], 2)\n",
    "    distance = (newDistributionMida - initialRatioDistribution.iloc[row.name,:]).abs().sum()\n",
    "\n",
    "    return (1 - round(distance, 2)) * 100"
   ]
  },
  {
   "cell_type": "code",
   "execution_count": null,
   "metadata": {},
   "outputs": [],
   "source": [
    "# Correttezza dell'algoritmo MIDA\n",
    "accuracyMIDA = campaign_data_processed.loc[:,'total_impressions':'impressions_weekend_night'].apply(lambda row: computeAccuracyMIDA(row), axis = 1)\n",
    "\n",
    "print(\"Correttezza media MIDA:\", round(accuracyMIDA.mean(), 2), \"%\")\n",
    "print(\"Correttezza mediana MIDA:\", accuracyMIDA.median(), \"%\")"
   ]
  },
  {
   "attachments": {},
   "cell_type": "markdown",
   "metadata": {},
   "source": [
    "### Lunghezza del testo della pagina"
   ]
  },
  {
   "cell_type": "code",
   "execution_count": null,
   "metadata": {},
   "outputs": [],
   "source": [
    "# Dataframe con le colonne relative alla lunghezza del testo\n",
    "page_length = campaign_data_processed.loc[:,'L00_50':'L10001_more']"
   ]
  },
  {
   "cell_type": "code",
   "execution_count": null,
   "metadata": {},
   "outputs": [],
   "source": [
    "# Pre-processing sui NaN, inf e valori negativi come riportato nel paper\n",
    "page_length = page_length.fillna(0).replace([np.inf, -np.inf], 100).abs()"
   ]
  },
  {
   "cell_type": "code",
   "execution_count": null,
   "metadata": {},
   "outputs": [],
   "source": [
    "# Dataframe con osservazioni con tutte le colonne uguali a 0\n",
    "page_length_erroneus = page_length[(page_length.isin([0]).sum(axis = 1)) == 9]\n",
    "\n",
    "# Dataframe con osservazioni corrette\n",
    "page_length_ok = page_length[(page_length.isin([0]).sum(axis = 1)) < 9]\n",
    "\n",
    "# Numero di osservazioni con tutte le colonne uguali a 0\n",
    "print('Numero di righe erronee:', len(page_length_erroneus))\n",
    "\n",
    "# Calcolo della mediana per ciascuna colonna\n",
    "print('Mediana per ciascuna colonna\\n', page_length_ok.median())\n",
    "\n",
    "# Aggiustamento delle righe erronee come spiegato nel paper (L00_50 = 1)\n",
    "page_length.loc[page_length_erroneus.index,'L00_50'] = 1"
   ]
  },
  {
   "cell_type": "code",
   "execution_count": null,
   "metadata": {},
   "outputs": [],
   "source": [
    "# Normalizzazione delle osservazioni nel range [0,1]\n",
    "page_length = page_length.apply(lambda row: round(row / row.sum(), 2), axis = 1)"
   ]
  },
  {
   "cell_type": "code",
   "execution_count": null,
   "metadata": {},
   "outputs": [],
   "source": [
    "# Percentuali di osservazioni con specifiche colonne uguali a 0\n",
    "# Colonna L00_50\n",
    "print('L00_50:', round((len(page_length[page_length.iloc[:,0] == 0]) / len(page_length)) * 100, 2), '%')\n",
    "\n",
    "# Colonna L51_100\n",
    "print('L51_100:', round((len(page_length[page_length.iloc[:,1] == 0]) / len(page_length)) * 100, 2), '%')\n",
    "\n",
    "# Colonna L101_250\n",
    "print('L101_250:', round((len(page_length[page_length.iloc[:,2] == 0]) / len(page_length)) * 100, 2), '%')\n",
    "\n",
    "# Colonna L251_500\n",
    "print('L251_500:', round((len(page_length[page_length.iloc[:,3] == 0]) / len(page_length)) * 100, 2), '%')\n",
    "\n",
    "# Colonna L501_1000\n",
    "print('L501_1000:', round((len(page_length[page_length.iloc[:,4] == 0]) / len(page_length)) * 100, 2), '%')\n",
    "\n",
    "# Colonna L1001_2500\n",
    "print('L1001_2500:', round((len(page_length[page_length.iloc[:,5] == 0]) / len(page_length)) * 100, 2), '%')\n",
    "\n",
    "# Colonna L2501_5000\n",
    "print('L2501_5000:', round((len(page_length[page_length.iloc[:,6] == 0]) / len(page_length)) * 100, 2), '%')\n",
    "\n",
    "# Colonna L5001_10000\n",
    "print('L5001_10000:', round((len(page_length[page_length.iloc[:,7] == 0]) / len(page_length)) * 100, 2), '%')\n",
    "\n",
    "# Colonna L10001_more\n",
    "print('L10001_more:', round((len(page_length[page_length.iloc[:,8] == 0]) / len(page_length)) * 100, 2), '%')"
   ]
  },
  {
   "cell_type": "code",
   "execution_count": null,
   "metadata": {},
   "outputs": [],
   "source": [
    "# Aggregazione delle colonne con lunghezza del testo maggiore di 250 caratteri\n",
    "page_length['L251_more'] = page_length.loc[:,'L251_500':'L10001_more'].sum(axis = 1)\n",
    "\n",
    "# Eliminazione delle colonne precedentemente aggregate\n",
    "page_length.drop(page_length.loc[:,'L251_500':'L10001_more'].columns, inplace = True, axis = 1)"
   ]
  },
  {
   "cell_type": "code",
   "execution_count": null,
   "metadata": {},
   "outputs": [],
   "source": [
    "page_length['impressions'] = campaign_data_processed['total_impressions']"
   ]
  },
  {
   "cell_type": "code",
   "execution_count": null,
   "metadata": {},
   "outputs": [],
   "source": [
    "def computeImpressionsPerPageLength(row):\n",
    "    \n",
    "    impressions = row['impressions']\n",
    "\n",
    "    # Gestione della problematica delle impressions con percentuali sbagliate\n",
    "    if(impressions == 1): \n",
    "        \n",
    "        index_max = row['L00_50':'L251_more'].idxmax()\n",
    "        row = row.apply(lambda x: 0)\n",
    "        row[index_max] = 1\n",
    "\n",
    "        return row[:-1].apply(int)\n",
    "\n",
    "    else:\n",
    "\n",
    "        impressionsPerPageLength = round(impressions * row['L00_50':'L251_more']).apply(int)\n",
    "        sumImpressionsPerPageLength = impressionsPerPageLength.sum()\n",
    "\n",
    "        if(sumImpressionsPerPageLength != impressions):\n",
    "\n",
    "            diff = sumImpressionsPerPageLength - impressions\n",
    "\n",
    "            if(diff > 0):\n",
    "\n",
    "                while(diff != 0):\n",
    "\n",
    "                    diff = diff - 1\n",
    "                    randColumn = impressionsPerPageLength.loc[lambda x: x > 0].sample(n = 1).index[0]\n",
    "                    impressionsPerPageLength[randColumn] = impressionsPerPageLength[randColumn] - 1\n",
    "\n",
    "            else:\n",
    "\n",
    "                while(diff != 0):\n",
    "\n",
    "                    diff = diff + 1\n",
    "                    randColumn = impressionsPerPageLength.loc[lambda x: x > 0].sample(n = 1).index[0]\n",
    "                    impressionsPerPageLength[randColumn] = impressionsPerPageLength[randColumn] + 1\n",
    "\n",
    "        return impressionsPerPageLength"
   ]
  },
  {
   "cell_type": "code",
   "execution_count": null,
   "metadata": {},
   "outputs": [],
   "source": [
    "page_length = page_length.apply(lambda row: computeImpressionsPerPageLength(row), axis = 1)"
   ]
  },
  {
   "cell_type": "code",
   "execution_count": null,
   "metadata": {},
   "outputs": [],
   "source": [
    "campaign_data_processed.insert(\n",
    "    \n",
    "    loc = 16, \n",
    "    column = 'L251_more',\n",
    "    value = 0\n",
    "    \n",
    ")"
   ]
  },
  {
   "cell_type": "code",
   "execution_count": null,
   "metadata": {},
   "outputs": [],
   "source": [
    "campaign_data_processed.loc[:,'L00_50':'L251_more'] = page_length"
   ]
  },
  {
   "cell_type": "code",
   "execution_count": null,
   "metadata": {},
   "outputs": [],
   "source": [
    "# Eliminazione delle vecchie colonne relative alla lunghezza del testo\n",
    "campaign_data_processed.drop(campaign_data_processed.loc[:,'L251_500':'L10001_more'].columns, inplace = True, axis = 1)\n",
    "\n",
    "# Rinomina delle colonne relative alla lunghezza del testo\n",
    "campaign_data_processed = campaign_data_processed.rename(columns = {\n",
    "\n",
    "    'L00_50': 'impressions_page_length_1',\n",
    "    'L51_100': 'impressions_page_length_2',\n",
    "    'L101_250': 'impressions_page_length_3',\n",
    "    'L251_more': 'impressions_page_length_4'\n",
    "\n",
    "})"
   ]
  },
  {
   "attachments": {},
   "cell_type": "markdown",
   "metadata": {},
   "source": [
    "### Categorie"
   ]
  },
  {
   "cell_type": "code",
   "execution_count": null,
   "metadata": {},
   "outputs": [],
   "source": [
    "# campaign_data_processed.to_csv('campaign_preprocessed_partial.csv', index=False)\n",
    "# campaign_data_processed = pd.read_csv(zipfile.ZipFile('campaign_preprocessed_partial.zip', 'r').open('campaign_preprocessed_partial.csv'))"
   ]
  },
  {
   "cell_type": "code",
   "execution_count": null,
   "metadata": {},
   "outputs": [],
   "source": [
    "# Eliminazione delle colonne relative alle categorie di livello 2 e 3\n",
    "campaign_data_processed.drop(campaign_data_processed.loc[:,'categories2_accessories':'categories3_zoology'].columns, inplace = True, axis = 1)"
   ]
  },
  {
   "cell_type": "code",
   "execution_count": null,
   "metadata": {},
   "outputs": [],
   "source": [
    "# Rinomina delle colonne delle categorie di livello 1\n",
    "def newName(name):\n",
    "    return name.replace(name, name.split('_')[1])\n",
    "\n",
    "campaign_data_processed = pd.concat([ campaign_data_processed, campaign_data_processed.loc[:,'categories1_artandentertainment':'categories1_uncategorized'].rename(columns = newName) ], axis = 1)\n",
    "campaign_data_processed.drop(campaign_data_processed.loc[:,'categories1_artandentertainment':'categories1_uncategorized'].columns, inplace = True, axis = 1)"
   ]
  },
  {
   "cell_type": "code",
   "execution_count": null,
   "metadata": {},
   "outputs": [],
   "source": [
    "# Dataframe con le colonne relative alle categorie di livello 1\n",
    "campaign_category_1 = campaign_data_processed.loc[:,'artandentertainment':'uncategorized']"
   ]
  },
  {
   "cell_type": "code",
   "execution_count": null,
   "metadata": {},
   "outputs": [],
   "source": [
    "# Aggiustamento dei valori NaN, inf e negativi\n",
    "campaign_category_1 = campaign_category_1.fillna(0).replace([np.inf, -np.inf], 100).abs()"
   ]
  },
  {
   "cell_type": "code",
   "execution_count": null,
   "metadata": {},
   "outputs": [],
   "source": [
    "# Elimino le colonne che hanno somma uguale a 0, ovvero non assumono alcun valore -> emotions (categoria non riconosciuta)\n",
    "campaign_category_1.drop(campaign_category_1.sum()[campaign_category_1.sum() == 0].index, inplace = True, axis = 1)"
   ]
  },
  {
   "cell_type": "code",
   "execution_count": null,
   "metadata": {},
   "outputs": [],
   "source": [
    "# Dataframe con osservazioni che hanno categoria di livello 1\n",
    "cat1_ok = campaign_category_1[campaign_category_1.sum(axis = 1) != 0]\n",
    "\n",
    "# Normalizzazione nel range [0,1]\n",
    "cat1_ok = cat1_ok.apply(lambda row: round(row/row.sum(), 2), axis = 1)\n",
    "\n",
    "# Inserimento delle colonne normalizzate nel dataframe\n",
    "campaign_category_1.loc[cat1_ok.index,:] = cat1_ok"
   ]
  },
  {
   "cell_type": "code",
   "execution_count": null,
   "metadata": {},
   "outputs": [],
   "source": [
    "# Check: numero di cookie senza categoria di livello 1 \n",
    "cat1_check = campaign_category_1.sum(axis = 1)\n",
    "\n",
    "print('Numero di cookie senza categoria di livello 1:', len(campaign_category_1[cat1_check == 0]))\n",
    "\n",
    "# Soluzione: aggiustamento delle righe erronee mettendo la media di ciascuna colonna di tutte le altre righe\n",
    "# Riga con le medie (computata sulle categorie ok)\n",
    "mean_category = round(cat1_ok.mean(), 2)\n",
    "\n",
    "# Sostituzione delle righe erronee\n",
    "campaign_category_1[cat1_check == 0] = campaign_category_1[cat1_check == 0].apply(lambda row: mean_category, axis = 1)"
   ]
  },
  {
   "cell_type": "code",
   "execution_count": null,
   "metadata": {},
   "outputs": [],
   "source": [
    "# Idea: splitting del ratio di uncategorized in tutte le altre categorie (ed eliminazione di uncategorized)\n",
    "\n",
    "# Funzione che distribuisce il valore di uncategorized sulle altre colonne \n",
    "def distributeUncategorized(row):\n",
    "\n",
    "    if(row['uncategorized'] != 0.00):\n",
    "\n",
    "        n = row['uncategorized'] / (len(row) - 1)\n",
    "        return round(row + n, 2)\n",
    "    \n",
    "    else:\n",
    "\n",
    "        return row\n",
    "\n",
    "# Distribuzione del valore di uncategorized sulle altre colonne\n",
    "campaign_category_1 = campaign_category_1.apply(lambda row: distributeUncategorized(row), axis = 1)\n",
    "\n",
    "# Rimozione della colonna uncategorized\n",
    "campaign_category_1.drop('uncategorized', inplace=True, axis=1)"
   ]
  },
  {
   "cell_type": "code",
   "execution_count": null,
   "metadata": {},
   "outputs": [],
   "source": [
    "# Nuova normalizzazione nel range [0,1]\n",
    "campaign_category_1 = campaign_category_1.apply(lambda row: round(row/row.sum(),2), axis = 1)"
   ]
  },
  {
   "cell_type": "code",
   "execution_count": null,
   "metadata": {},
   "outputs": [],
   "source": [
    "# Idea: considerare range di ratio (eliminare variabilità e ottimizzazione clustering)\n",
    "\n",
    "# Funzione che ritorna l'ID relativo al range\n",
    "''''\n",
    "def assignRange(row):\n",
    "\n",
    "    i = 0\n",
    "    \n",
    "    for element in row:\n",
    "        \n",
    "        if(element == 0.00):\n",
    "           row[row.index[i]] = 0\n",
    "           \n",
    "        if((element > 0) & (element <= 0.1)):\n",
    "            row[row.index[i]] = 1\n",
    "            \n",
    "        if((element > 0.1) & (element <= 0.2)):\n",
    "            row[row.index[i]] = 2\n",
    "        \n",
    "        if((element > 0.2) & (element <= 0.3)):\n",
    "            row[row.index[i]] = 3\n",
    "            \n",
    "        if((element > 0.3) & (element <= 0.4)):\n",
    "            row[row.index[i]] = 4\n",
    "        \n",
    "        if((element > 0.4) & (element <= 0.5)):\n",
    "            row[row.index[i]] = 5\n",
    "        \n",
    "        if((element > 0.5) & (element <= 0.6)):\n",
    "            row[row.index[i]] = 6\n",
    "        \n",
    "        if((element > 0.6) & (element <= 0.7)):\n",
    "            row[row.index[i]] = 7\n",
    "        \n",
    "        if((element > 0.7) & (element <= 0.8)):\n",
    "            row[row.index[i]] = 8\n",
    "        \n",
    "        if((element > 0.8) & (element <= 0.9)):\n",
    "            row[row.index[i]] = 9\n",
    "        \n",
    "        if((element > 0.9) & (element <= 1)):\n",
    "            row[row.index[i]] = 10\n",
    "        \n",
    "        i = i + 1\n",
    "    \n",
    "    return row.apply(int)\n",
    "\n",
    "# Assegnazione dei range a tutti i valori delle colonne delle categorie di livello 1\n",
    "campaign_category_1 = campaign_category_1.apply(lambda row: assignRange(row), axis = 1)\n",
    "\n",
    "'''"
   ]
  },
  {
   "cell_type": "code",
   "execution_count": null,
   "metadata": {},
   "outputs": [],
   "source": [
    "# Rimozione delle colonne emotions ed uncategorized dal dataframe principale\n",
    "campaign_data_processed.drop('emotions', inplace = True, axis = 1)\n",
    "campaign_data_processed.drop('uncategorized', inplace=True, axis=1)\n",
    "\n",
    "campaign_data_processed.loc[:,'artandentertainment':'travel'] = campaign_category_1"
   ]
  },
  {
   "attachments": {},
   "cell_type": "markdown",
   "metadata": {},
   "source": [
    "### Admants"
   ]
  },
  {
   "cell_type": "code",
   "execution_count": null,
   "metadata": {},
   "outputs": [],
   "source": [
    "# Check: osservazioni con tutte le colonne relative ad admants uguali a 0\n",
    "admants_check = campaign_data_processed.loc[:,'admants1_appliances':'admants1_videoandcomputergames'].sum(axis = 1)\n",
    "\n",
    "print('Numero di cookie senza admants:', len(campaign_data_processed[admants_check == 0]))\n",
    "\n",
    "# Eliminazione delle colonne relative ad admants\n",
    "campaign_data_processed.drop(campaign_data_processed.loc[:,'admants1_appliances':'admants1_videoandcomputergames'].columns, inplace = True, axis = 1)"
   ]
  },
  {
   "attachments": {},
   "cell_type": "markdown",
   "metadata": {},
   "source": [
    "### Sentiments"
   ]
  },
  {
   "cell_type": "code",
   "execution_count": null,
   "metadata": {},
   "outputs": [],
   "source": [
    "# Check: numero di cookie senza sentiments\n",
    "sentiments_check = campaign_data_processed.loc[:,'sentiments1_neutroneutralsentiment':'sentiments1_sentimentpositivesentiment'].sum(axis = 1)\n",
    "\n",
    "print('Numero di cookie senza sentiments:', len(campaign_data_processed[sentiments_check == 0]))\n",
    "\n",
    "# Eliminazione delle colonne relative ai sentiments\n",
    "campaign_data_processed.drop(campaign_data_processed.loc[:,'sentiments1_neutroneutralsentiment':'sentiments1_sentimentpositivesentiment'].columns, inplace = True, axis = 1)"
   ]
  },
  {
   "attachments": {},
   "cell_type": "markdown",
   "metadata": {},
   "source": [
    "### Feelings"
   ]
  },
  {
   "cell_type": "code",
   "execution_count": null,
   "metadata": {},
   "outputs": [],
   "source": [
    "# Check: numero di cookie senza feelings\n",
    "feelings_check = campaign_data_processed.loc[:,'feelings1_active':'feelings1_wealth'].sum(axis = 1)\n",
    "\n",
    "print('Numero di cookie senza feelings:', len(campaign_data_processed[feelings_check == 0]))\n",
    "\n",
    "# Eliminazione delle colonne relative ai feelings\n",
    "campaign_data_processed.drop(campaign_data_processed.loc[:,'feelings1_active':'feelings1_wealth'].columns, inplace = True, axis = 1)"
   ]
  },
  {
   "attachments": {},
   "cell_type": "markdown",
   "metadata": {},
   "source": [
    "### Dataset pre-processed"
   ]
  },
  {
   "cell_type": "code",
   "execution_count": null,
   "metadata": {},
   "outputs": [],
   "source": [
    "campaign_data_processed.to_csv('../data/campaign-data-processed.csv', index = False)"
   ]
  }
 ],
 "metadata": {
  "kernelspec": {
   "display_name": "base",
   "language": "python",
   "name": "python3"
  },
  "language_info": {
   "codemirror_mode": {
    "name": "ipython",
    "version": 3
   },
   "file_extension": ".py",
   "mimetype": "text/x-python",
   "name": "python",
   "nbconvert_exporter": "python",
   "pygments_lexer": "ipython3",
   "version": "3.9.12"
  },
  "orig_nbformat": 4
 },
 "nbformat": 4,
 "nbformat_minor": 2
}
