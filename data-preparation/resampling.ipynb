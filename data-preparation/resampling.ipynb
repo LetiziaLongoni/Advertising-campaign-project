{
 "cells": [
  {
   "cell_type": "code",
   "execution_count": 1,
   "metadata": {},
   "outputs": [],
   "source": [
    "import pandas as pd\n",
    "import numpy as np\n",
    "\n",
    "from imblearn.over_sampling import SMOTE\n",
    "from imblearn.under_sampling import EditedNearestNeighbours\n",
    "from imblearn.combine import SMOTEENN\n",
    "from imblearn.under_sampling import NearMiss"
   ]
  },
  {
   "cell_type": "code",
   "execution_count": 2,
   "metadata": {},
   "outputs": [],
   "source": [
    "campaign_data_training = pd.read_csv('../data/campaign-data-training.csv')\n",
    "\n",
    "# Dataframe con osservazioni di classe positiva e negativa separati\n",
    "neg_class = campaign_data_training[campaign_data_training['clicker'] == 0]\n",
    "pos_class = campaign_data_training[campaign_data_training['clicker'] == 1]\n",
    "\n",
    "# Feature and label 'clicker' (GLOBAL)\n",
    "feature = campaign_data_training.drop('clicker', axis = 1)\n",
    "label = campaign_data_training['clicker'].apply(str)\n",
    "\n",
    "# Feature and label 'clicker' (NEGATIVE CLASS)\n",
    "feature_neg_class = neg_class.drop('clicker', axis = 1, inplace = False)\n",
    "label_neg_class = neg_class['clicker']"
   ]
  },
  {
   "cell_type": "code",
   "execution_count": 3,
   "metadata": {},
   "outputs": [],
   "source": [
    "# OVERSAMPLING + UNDERSAMPLING\n",
    "\n",
    "# SMOTEENN\n",
    "smoteenn = SMOTEENN(\n",
    "    random_state = 19,\n",
    "    smote = SMOTE(sampling_strategy = 0.5, k_neighbors = 10, random_state = 19),\n",
    "    enn = EditedNearestNeighbours(n_neighbors = 8)\n",
    ")\n",
    "\n",
    "feature_resampled, label_resampled = smoteenn.fit_resample(feature, label)\n",
    "\n",
    "campaign_data_resampled = feature_resampled\n",
    "campaign_data_resampled['clicker'] = label_resampled\n",
    "\n",
    "campaign_data_resampled.to_csv('../data/campaign-data-resampled.csv', index = False)"
   ]
  },
  {
   "cell_type": "code",
   "execution_count": 4,
   "metadata": {},
   "outputs": [],
   "source": [
    "# UNDERSAMPLING\n",
    "\n",
    "# Near Miss\n",
    "def getNearMiss(feature, label, version, sampling_strategy, n_neighbors):\n",
    "\n",
    "    near_miss = NearMiss(version = version, sampling_strategy = sampling_strategy, n_neighbors = n_neighbors)\n",
    "\n",
    "    # Applicazione dell'undersampling al DataFrame\n",
    "    feature_undersampled, label_undersampled = near_miss.fit_resample(feature, label)\n",
    "\n",
    "    # Creazione di un nuovo DataFrame con i dati sottoposti a undersampling\n",
    "    campaign_data_undersampled = pd.DataFrame(feature_undersampled, columns = feature.columns)\n",
    "    campaign_data_undersampled['clicker'] = label_undersampled\n",
    "\n",
    "    return campaign_data_undersampled\n",
    "\n",
    "campaign_data_nm1 = getNearMiss(feature = feature, label = label, version = 1, sampling_strategy = 0.7, n_neighbors = 5)\n",
    "\n",
    "campaign_data_nm1.to_csv('../data/campaign-data-undersampled.csv', index = False)\n"
   ]
  },
  {
   "cell_type": "code",
   "execution_count": 5,
   "metadata": {},
   "outputs": [],
   "source": [
    "# OVERSAMPLING\n",
    "\n",
    "# SMOTE\n",
    "smote = SMOTE(sampling_strategy = 0.5, k_neighbors = 10, random_state = 19)\n",
    "\n",
    "feature_oversampled, label_oversampled = smote.fit_resample(feature, label)\n",
    "\n",
    "campaign_data_smote = feature_oversampled\n",
    "campaign_data_smote['clicker'] = label_oversampled\n",
    "\n",
    "campaign_data_smote.to_csv('../data/campaign-data-oversampled.csv', index = False)"
   ]
  }
 ],
 "metadata": {
  "kernelspec": {
   "display_name": "Python 3",
   "language": "python",
   "name": "python3"
  },
  "language_info": {
   "codemirror_mode": {
    "name": "ipython",
    "version": 3
   },
   "file_extension": ".py",
   "mimetype": "text/x-python",
   "name": "python",
   "nbconvert_exporter": "python",
   "pygments_lexer": "ipython3",
   "version": "3.9.12"
  },
  "orig_nbformat": 4
 },
 "nbformat": 4,
 "nbformat_minor": 2
}
